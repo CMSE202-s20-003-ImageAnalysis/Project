{
 "cells": [
  {
   "cell_type": "code",
   "execution_count": 1,
   "metadata": {},
   "outputs": [],
   "source": [
    "import numpy as np\n",
    "import matplotlib.pyplot as plt\n",
    "%matplotlib inline\n",
    "import glob\n",
    "import imageio\n",
    "from imageio import imread\n"
   ]
  },
  {
   "cell_type": "code",
   "execution_count": 2,
   "metadata": {},
   "outputs": [],
   "source": [
    "def get_images(folder):\n",
    "    return glob.glob(folder+\"/*.j*\")"
   ]
  },
  {
   "cell_type": "code",
   "execution_count": 4,
   "metadata": {},
   "outputs": [
    {
     "data": {
      "text/plain": [
       "['A01_GioneeS55\\\\Fractal-HDR-1.jpg',\n",
       " 'A01_GioneeS55\\\\Fractal-HDR-10.jpg',\n",
       " 'A01_GioneeS55\\\\Fractal-HDR-11.jpg',\n",
       " 'A01_GioneeS55\\\\Fractal-HDR-12.jpg',\n",
       " 'A01_GioneeS55\\\\Fractal-HDR-13.jpg',\n",
       " 'A01_GioneeS55\\\\Fractal-HDR-2.jpg',\n",
       " 'A01_GioneeS55\\\\Fractal-HDR-3.jpg',\n",
       " 'A01_GioneeS55\\\\Fractal-HDR-4.jpg',\n",
       " 'A01_GioneeS55\\\\Fractal-HDR-5.jpg',\n",
       " 'A01_GioneeS55\\\\Fractal-HDR-6.jpg',\n",
       " 'A01_GioneeS55\\\\Fractal-HDR-7.jpg',\n",
       " 'A01_GioneeS55\\\\Fractal-HDR-8.jpg',\n",
       " 'A01_GioneeS55\\\\Fractal-HDR-9.jpg',\n",
       " 'A01_GioneeS55\\\\Fractal-SDR-1.jpg',\n",
       " 'A01_GioneeS55\\\\Fractal-SDR-10.jpg',\n",
       " 'A01_GioneeS55\\\\Fractal-SDR-11.jpg',\n",
       " 'A01_GioneeS55\\\\Fractal-SDR-12.jpg',\n",
       " 'A01_GioneeS55\\\\Fractal-SDR-13.jpg',\n",
       " 'A01_GioneeS55\\\\Fractal-SDR-14.jpg',\n",
       " 'A01_GioneeS55\\\\Fractal-SDR-15.jpg',\n",
       " 'A01_GioneeS55\\\\Fractal-SDR-16.jpg',\n",
       " 'A01_GioneeS55\\\\Fractal-SDR-17.jpg',\n",
       " 'A01_GioneeS55\\\\Fractal-SDR-18.jpg',\n",
       " 'A01_GioneeS55\\\\Fractal-SDR-19.jpg',\n",
       " 'A01_GioneeS55\\\\Fractal-SDR-2.jpg',\n",
       " 'A01_GioneeS55\\\\Fractal-SDR-20.jpg',\n",
       " 'A01_GioneeS55\\\\Fractal-SDR-3.jpg',\n",
       " 'A01_GioneeS55\\\\Fractal-SDR-4.jpg',\n",
       " 'A01_GioneeS55\\\\Fractal-SDR-5.jpg',\n",
       " 'A01_GioneeS55\\\\Fractal-SDR-6.jpg',\n",
       " 'A01_GioneeS55\\\\Fractal-SDR-7.jpg',\n",
       " 'A01_GioneeS55\\\\Fractal-SDR-8.jpg',\n",
       " 'A01_GioneeS55\\\\Fractal-SDR-9.jpg']"
      ]
     },
     "execution_count": 4,
     "metadata": {},
     "output_type": "execute_result"
    }
   ],
   "source": [
    "fractals = get_images('A01_GioneeS55')\n",
    "fractals = fractals[0:33]\n",
    "fractals"
   ]
  },
  {
   "cell_type": "code",
   "execution_count": null,
   "metadata": {},
   "outputs": [],
   "source": [
    "numbers = ['b', 'd', 'c', 'a']\n",
    "numbers = sorted(numbers)\n",
    "\n",
    "numbers"
   ]
  },
  {
   "cell_type": "code",
   "execution_count": null,
   "metadata": {},
   "outputs": [],
   "source": [
    "ex = imread(fractals[1])\n",
    "plt.matshow(ex)"
   ]
  },
  {
   "cell_type": "code",
   "execution_count": null,
   "metadata": {},
   "outputs": [],
   "source": [
    "from PIL import Image\n",
    "for i in fractals:\n",
    "    img = Image.open(i).convert('LA')\n",
    "    img.save(i)"
   ]
  },
  {
   "cell_type": "code",
   "execution_count": null,
   "metadata": {},
   "outputs": [],
   "source": [
    "fractal_matrices = []\n",
    "for i in range(len(fractals)):\n",
    "    fractal_matrices.append(imread(fractals[i]).flatten())\n",
    "fractal_matrices"
   ]
  },
  {
   "cell_type": "code",
   "execution_count": null,
   "metadata": {},
   "outputs": [],
   "source": [
    "string = fractals[0]\n",
    "string[22:25]\n",
    "\n",
    "class_labels = []\n",
    "for i in range(len(fractals)):\n",
    "    if fractals[i][22:25] == 'HDR':\n",
    "        class_labels.append(1)\n",
    "    else:\n",
    "        class_labels.append(0)\n",
    "\n",
    "print(len(class_labels))\n",
    "class_labels"
   ]
  },
  {
   "cell_type": "code",
   "execution_count": null,
   "metadata": {},
   "outputs": [],
   "source": [
    "import sklearn.model_selection as model_selection\n",
    "\n",
    "train_vectors, test_vectors, train_labels, test_labels = model_selection.train_test_split(fractal_matrices, class_labels, train_size=0.75,test_size=0.25)"
   ]
  },
  {
   "cell_type": "code",
   "execution_count": null,
   "metadata": {},
   "outputs": [],
   "source": [
    "###############################################################################\n",
    "# Train a SVM classification model\n",
    "from sklearn.model_selection import GridSearchCV\n",
    "from sklearn.metrics import classification_report\n",
    "from sklearn.metrics import confusion_matrix\n",
    "from sklearn.svm import SVC\n",
    "import time\n",
    "start = time.time()\n",
    "\n",
    "#make some temporary variables so you can change this easily\n",
    "tmp_vectors = train_vectors\n",
    "tmp_labels = train_labels\n",
    "\n",
    "print(\"Fitting the classifier to the training set\")\n",
    "param_grid = {'C': [1e3, 5e3, 1e4, 5e4, 1e5],\n",
    "              'gamma': [0.0001, 0.0005, 0.001, 0.005, 0.01, 0.1], }\n",
    "clf = GridSearchCV(SVC(kernel='rbf', class_weight='balanced'), param_grid)\n",
    "clf = clf.fit(tmp_vectors, tmp_labels)\n",
    "print(\"Best estimator found by grid search:\")\n",
    "print(clf.best_estimator_)\n",
    "\n",
    "end = time.time()\n",
    "print(\"Runtime\",end - start)"
   ]
  },
  {
   "cell_type": "code",
   "execution_count": null,
   "metadata": {},
   "outputs": [],
   "source": [
    "###############################################################################\n",
    "# Quantitative evaluation of the model quality on the test set\n",
    "\n",
    "#make some temporary variables so you can change this easily\n",
    "predict_vectors = test_vectors\n",
    "true_lables = test_labels\n",
    "\n",
    "print(\"Predicting names on the test set\")\n",
    "pred_labels = clf.predict(predict_vectors)\n",
    "\n",
    "print(classification_report(true_lables, pred_labels))\n",
    "print(confusion_matrix(true_lables, pred_labels, labels=range(2)))\n"
   ]
  },
  {
   "cell_type": "code",
   "execution_count": null,
   "metadata": {},
   "outputs": [],
   "source": [
    "def plot_gallery(images, true_titles, pred_titles, h, w, n_row=5, n_col=5):\n",
    "    \"\"\"Helper function to plot a gallery of portraits\"\"\"\n",
    "    plt.figure(figsize=(1.8 * n_col, 2.4 * n_row))\n",
    "    plt.subplots_adjust(bottom=0, left=.01, right=.99, top=.90, hspace=.35)\n",
    "    for i in range(n_row * n_col):\n",
    "        plt.subplot(n_row, n_col, i + 1)\n",
    "        plt.imshow(images[i].reshape((h, w)), cmap=plt.cm.gray_r)\n",
    "        plt.title('Pred='+str(categories[pred_titles[i]]), size=9)\n",
    "        plt.xlabel('Actual='+str(categories[true_titles[i]]), size=9)\n",
    "        plt.xticks(())\n",
    "        plt.yticks(())\n",
    "\n",
    "plot_gallery(test_vectors, test_labels, pred_labels, 320, 480)\n"
   ]
  },
  {
   "cell_type": "code",
   "execution_count": null,
   "metadata": {},
   "outputs": [],
   "source": []
  }
 ],
 "metadata": {
  "kernelspec": {
   "display_name": "Python 3",
   "language": "python",
   "name": "python3"
  },
  "language_info": {
   "codemirror_mode": {
    "name": "ipython",
    "version": 3
   },
   "file_extension": ".py",
   "mimetype": "text/x-python",
   "name": "python",
   "nbconvert_exporter": "python",
   "pygments_lexer": "ipython3",
   "version": "3.7.4"
  }
 },
 "nbformat": 4,
 "nbformat_minor": 2
}
